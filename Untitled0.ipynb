{
 "cells": [
  {
   "cell_type": "code",
   "execution_count": 791,
   "metadata": {},
   "outputs": [],
   "source": [
    "%matplotlib inline\n",
    "import numpy \n",
    "import numpy as np\n",
    "#import pandas as pd\n",
    "import matplotlib.pyplot as plt\n",
    "import librosa\n",
    "import soundfile as sf\n",
    "import os\n",
    "import sklearn\n",
    "from sklearn.model_selection import train_test_split\n",
    "import math\n",
    "from collections import OrderedDict"
   ]
  },
  {
   "cell_type": "code",
   "execution_count": 792,
   "metadata": {},
   "outputs": [],
   "source": [
    "import torch\n",
    "import torch.nn as nn\n",
    "import torch.nn.functional as F\n",
    "\n",
    "from torch.utils.data import TensorDataset, DataLoader\n",
    "import os\n",
    "\n",
    "from collections import OrderedDict\n",
    "from numba import jit\n",
    "import copy\n",
    "import math\n",
    "\n",
    "#import hparams as hp\n",
    "import utils"
   ]
  },
  {
   "cell_type": "code",
   "execution_count": 793,
   "metadata": {},
   "outputs": [],
   "source": [
    "import sklearn as sk\n",
    "from sklearn import preprocessing"
   ]
  },
  {
   "cell_type": "code",
   "execution_count": 170,
   "metadata": {},
   "outputs": [
    {
     "name": "stdout",
     "output_type": "stream",
     "text": [
      "['a.wav', 'a1.wav', 'a10.wav', 'a11.wav', 'a2.wav', 'a3.wav', 'a4.wav', 'a5.wav', 'a6.wav', 'a7.wav', 'a8.wav', 'a9.wav']\n"
     ]
    }
   ],
   "source": [
    "files = [f for f in os.listdir('../../Test01/Test5/data/a') if os.path.isfile(f) and f.endswith(\".wav\")]\n",
    "print(files)"
   ]
  },
  {
   "cell_type": "code",
   "execution_count": 171,
   "metadata": {},
   "outputs": [
    {
     "data": {
      "text/plain": [
       "12"
      ]
     },
     "execution_count": 171,
     "metadata": {},
     "output_type": "execute_result"
    }
   ],
   "source": [
    "len(files)"
   ]
  },
  {
   "cell_type": "code",
   "execution_count": 172,
   "metadata": {},
   "outputs": [
    {
     "name": "stdout",
     "output_type": "stream",
     "text": [
      "['C:\\\\Users\\\\Alexandra\\\\Test01\\\\Test5\\\\a.wav']\n"
     ]
    }
   ],
   "source": [
    "c=[os.path.abspath(files[0])]\n",
    "print(c)"
   ]
  },
  {
   "cell_type": "code",
   "execution_count": 173,
   "metadata": {},
   "outputs": [],
   "source": [
    "#frame=[]\n",
    "#for i in range(len(files)): \n",
    "#    y , sr = sf.read(files[i])\n",
    "#    mfccs = librosa.feature.mfcc(y=y, sr=sr, hop_length=512, htk=True, n_mfcc=15,dct_type = 2,norm = 'ortho')\n",
    "#    frame.append((mfccs))"
   ]
  },
  {
   "cell_type": "code",
   "execution_count": 174,
   "metadata": {},
   "outputs": [],
   "source": [
    "frame=[]\n",
    "for i in range(len(files)): \n",
    "    y , sr = sf.read(files[i])\n",
    "    mfccs = librosa.feature.melspectrogram(y=y, sr=sr, hop_length=512, htk=True)\n",
    "    frame.append((mfccs))"
   ]
  },
  {
   "cell_type": "code",
   "execution_count": 175,
   "metadata": {},
   "outputs": [],
   "source": [
    "frame=[]\n",
    "for i in range(len(files)): \n",
    "    y , sr = sf.read(files[i])\n",
    "    mfccs = librosa.stft(y=y, hop_length=512)\n",
    "    frame.append((mfccs))"
   ]
  },
  {
   "cell_type": "code",
   "execution_count": 176,
   "metadata": {},
   "outputs": [],
   "source": [
    "frame = numpy.array(frame)"
   ]
  },
  {
   "cell_type": "code",
   "execution_count": 177,
   "metadata": {},
   "outputs": [
    {
     "data": {
      "text/plain": [
       "(12, 1025, 16)"
      ]
     },
     "execution_count": 177,
     "metadata": {},
     "output_type": "execute_result"
    }
   ],
   "source": [
    "np.shape(frame)"
   ]
  },
  {
   "cell_type": "code",
   "execution_count": 178,
   "metadata": {},
   "outputs": [],
   "source": [
    "#frame = frame.reshape(-1, 1)"
   ]
  },
  {
   "cell_type": "code",
   "execution_count": 179,
   "metadata": {},
   "outputs": [],
   "source": [
    "#mfccs = []\n",
    "#scaler = preprocessing.StandardScaler()\n",
    "#for i in range(len(frame)): \n",
    "#    scaler.fit(frame[i])\n",
    "#for i in range(len(frame)): \n",
    "#    mfccs.append(scaler.transform(frame[i]))"
   ]
  },
  {
   "cell_type": "code",
   "execution_count": 180,
   "metadata": {},
   "outputs": [],
   "source": [
    "mfccs = []\n",
    "for i in range(len(frame)): \n",
    "    mfccs.append(frame[i])"
   ]
  },
  {
   "cell_type": "code",
   "execution_count": 181,
   "metadata": {},
   "outputs": [],
   "source": [
    "mfccs = numpy.array(mfccs)"
   ]
  },
  {
   "cell_type": "code",
   "execution_count": 182,
   "metadata": {},
   "outputs": [],
   "source": [
    "MFCCS = []\n",
    "for i in range(len(mfccs)): \n",
    "    MFCCS.append(mfccs[i].flatten())\n",
    "#    print(MFCCS[0])"
   ]
  },
  {
   "cell_type": "code",
   "execution_count": 183,
   "metadata": {},
   "outputs": [
    {
     "name": "stderr",
     "output_type": "stream",
     "text": [
      "<ipython-input-183-b48c5be9cca8>:1: ComplexWarning: Casting complex values to real discards the imaginary part\n",
      "  MFCCS=np.array(MFCCS, dtype=float)\n"
     ]
    },
    {
     "data": {
      "text/plain": [
       "(12, 16400)"
      ]
     },
     "execution_count": 183,
     "metadata": {},
     "output_type": "execute_result"
    }
   ],
   "source": [
    "MFCCS=np.array(MFCCS, dtype=float)\n",
    "MFCCS.shape"
   ]
  },
  {
   "cell_type": "code",
   "execution_count": 184,
   "metadata": {},
   "outputs": [],
   "source": [
    "abcd = [3,3,3,3,3,3,3,3,3,3,3,3]"
   ]
  },
  {
   "cell_type": "code",
   "execution_count": 185,
   "metadata": {},
   "outputs": [],
   "source": [
    "abcd = numpy.array(abcd)"
   ]
  },
  {
   "cell_type": "code",
   "execution_count": 186,
   "metadata": {},
   "outputs": [
    {
     "data": {
      "text/plain": [
       "(12,)"
      ]
     },
     "execution_count": 186,
     "metadata": {},
     "output_type": "execute_result"
    }
   ],
   "source": [
    "abcd.shape"
   ]
  },
  {
   "cell_type": "code",
   "execution_count": 187,
   "metadata": {},
   "outputs": [],
   "source": [
    "X_train, X_test, y_train, y_test = train_test_split(abcd, MFCCS, test_size=0.3)"
   ]
  },
  {
   "cell_type": "code",
   "execution_count": 188,
   "metadata": {},
   "outputs": [
    {
     "data": {
      "text/plain": [
       "array([3, 3, 3, 3, 3, 3, 3, 3])"
      ]
     },
     "execution_count": 188,
     "metadata": {},
     "output_type": "execute_result"
    }
   ],
   "source": [
    "X_train"
   ]
  },
  {
   "cell_type": "code",
   "execution_count": 189,
   "metadata": {},
   "outputs": [
    {
     "data": {
      "text/plain": [
       "array([ 0.00507996,  0.29260043,  0.89346556, ...,  0.00362384,\n",
       "        0.00343692, -0.00277775])"
      ]
     },
     "execution_count": 189,
     "metadata": {},
     "output_type": "execute_result"
    }
   ],
   "source": [
    "MFCCS[0]"
   ]
  },
  {
   "cell_type": "code",
   "execution_count": 190,
   "metadata": {},
   "outputs": [
    {
     "data": {
      "text/plain": [
       "array([3, 3, 3, 3])"
      ]
     },
     "execution_count": 190,
     "metadata": {},
     "output_type": "execute_result"
    }
   ],
   "source": [
    "X_test"
   ]
  },
  {
   "cell_type": "code",
   "execution_count": 191,
   "metadata": {},
   "outputs": [],
   "source": [
    "y_test = []\n",
    "y_test = MFCCS[4:12]"
   ]
  },
  {
   "cell_type": "code",
   "execution_count": 192,
   "metadata": {},
   "outputs": [],
   "source": [
    "#len(y_test_2)"
   ]
  },
  {
   "cell_type": "code",
   "execution_count": null,
   "metadata": {},
   "outputs": [],
   "source": []
  },
  {
   "cell_type": "code",
   "execution_count": null,
   "metadata": {},
   "outputs": [],
   "source": []
  },
  {
   "cell_type": "code",
   "execution_count": 193,
   "metadata": {},
   "outputs": [],
   "source": [
    "X_train = np.array(X_train)\n",
    "X_test = np.array(X_test)\n",
    "X_train = torch.FloatTensor(X_train)\n",
    "X_test = torch.FloatTensor(X_test)\n",
    "#X_train = np.true_divide(X_train, 255.)\n",
    "#X_test = np.true_divide(X_test, 255.)\n",
    "#print(X_train)"
   ]
  },
  {
   "cell_type": "code",
   "execution_count": 194,
   "metadata": {},
   "outputs": [],
   "source": [
    "X_train = [t.numpy() for t in X_train]\n",
    "X_test = [t.numpy() for t in X_test]"
   ]
  },
  {
   "cell_type": "code",
   "execution_count": 195,
   "metadata": {},
   "outputs": [],
   "source": [
    "y_train = np.array(y_train)\n",
    "y_test = np.array(y_test)\n",
    "y_train = torch.FloatTensor(y_train)\n",
    "y_test = torch.FloatTensor(y_test)\n",
    "#X_train = np.true_divide(X_train, 255.)\n",
    "#X_test = np.true_divide(X_test, 255.)\n",
    "#print(y_test[0])"
   ]
  },
  {
   "cell_type": "code",
   "execution_count": 196,
   "metadata": {},
   "outputs": [],
   "source": [
    "y_train = [t.numpy() for t in y_train]\n",
    "y_test = [t.numpy() for t in y_test]"
   ]
  },
  {
   "cell_type": "code",
   "execution_count": 197,
   "metadata": {},
   "outputs": [
    {
     "data": {
      "text/plain": [
       "[array([ 0.00507996,  0.29260042,  0.8934656 , ...,  0.00362384,\n",
       "         0.00343692, -0.00277775], dtype=float32),\n",
       " array([ 0.00507996,  0.29260042,  0.8934656 , ...,  0.00362384,\n",
       "         0.00343692, -0.00277775], dtype=float32),\n",
       " array([ 0.00507996,  0.29260042,  0.8934656 , ...,  0.00362384,\n",
       "         0.00343692, -0.00277775], dtype=float32),\n",
       " array([ 0.00257377,  0.14739941,  0.448549  , ...,  0.00486052,\n",
       "         0.00577864, -0.00250339], dtype=float32),\n",
       " array([ 5.0396170e-03,  3.0352846e-01,  7.9645371e-01, ...,\n",
       "         2.2346943e-03,  4.1141358e-04, -1.9532358e-03], dtype=float32),\n",
       " array([ 0.00507996,  0.29260042,  0.8934656 , ...,  0.00362384,\n",
       "         0.00343692, -0.00277775], dtype=float32),\n",
       " array([ 0.00257377,  0.14739941,  0.448549  , ...,  0.00486052,\n",
       "         0.00577864, -0.00250339], dtype=float32),\n",
       " array([ 0.00572652,  0.3283126 ,  1.0024452 , ...,  0.00538644,\n",
       "         0.00318542, -0.00649947], dtype=float32)]"
      ]
     },
     "execution_count": 197,
     "metadata": {},
     "output_type": "execute_result"
    }
   ],
   "source": [
    "y_train"
   ]
  },
  {
   "cell_type": "code",
   "execution_count": 198,
   "metadata": {},
   "outputs": [],
   "source": [
    "y_train = np.array(y_train)\n",
    "y_test = np.array(y_test)\n",
    "y_train = torch.FloatTensor(y_train)\n",
    "y_test = torch.FloatTensor(y_test)\n",
    "y_train = torch.unsqueeze(y_train, 0)\n",
    "y_test = torch.unsqueeze(y_test, 0)"
   ]
  },
  {
   "cell_type": "code",
   "execution_count": 199,
   "metadata": {},
   "outputs": [],
   "source": [
    "X_train = np.array(X_train)\n",
    "X_test = np.array(X_test)\n",
    "X_train = torch.FloatTensor(X_train)\n",
    "X_test = torch.FloatTensor(X_test)\n",
    "X_train = torch.unsqueeze(X_train, 0)\n",
    "X_test = torch.unsqueeze(X_test, 0)\n",
    "#X_train = np.true_divide(X_train, 255.)\n",
    "#X_test = np.true_divide(X_test, 255.)\n",
    "#print(X_train)"
   ]
  },
  {
   "cell_type": "code",
   "execution_count": 200,
   "metadata": {},
   "outputs": [],
   "source": [
    "#frame[10]"
   ]
  },
  {
   "cell_type": "code",
   "execution_count": 794,
   "metadata": {},
   "outputs": [],
   "source": [
    "from torch.utils.data import TensorDataset, DataLoader\n",
    "import os"
   ]
  },
  {
   "cell_type": "code",
   "execution_count": 795,
   "metadata": {},
   "outputs": [],
   "source": [
    "import torch\n",
    "import torch.nn as nn\n",
    "import torch.nn.functional as F"
   ]
  },
  {
   "cell_type": "code",
   "execution_count": 796,
   "metadata": {},
   "outputs": [],
   "source": [
    "from torch.nn import TransformerEncoder, TransformerEncoderLayer"
   ]
  },
  {
   "cell_type": "code",
   "execution_count": 204,
   "metadata": {},
   "outputs": [],
   "source": [
    "#X_train, X_test = sklearn.model_selection.train_test_split(frame,  test_size=0.3,  random_state = 16)"
   ]
  },
  {
   "cell_type": "code",
   "execution_count": 797,
   "metadata": {},
   "outputs": [],
   "source": [
    "import glob\n",
    "import os\n",
    "\n",
    "import librosa\n",
    "import numpy as np\n",
    "import torch\n",
    "from sklearn.preprocessing import LabelBinarizer\n",
    "from torch.utils.data.dataloader import DataLoader\n",
    "from torch.utils.data.dataset import Dataset\n",
    "\n",
    "import random"
   ]
  },
  {
   "cell_type": "code",
   "execution_count": 206,
   "metadata": {},
   "outputs": [],
   "source": [
    "class Conv3dNorm3d(nn.Module):\n",
    "    def __init__(self, in_channel ,out_channel, kernel, stride):\n",
    "        super(Conv3dNorm3d, self).__init__()\n",
    "\n",
    "        self.c1 = nn.Conv2d(in_channel, in_channel, kernel, stride)\n",
    "        self.n1 = nn.InstanceNorm2d(out_channel)\n",
    "        self.c2 = nn.Conv2d(in_channel, in_channel, kernel, stride)\n",
    "        self.n2 = nn.InstanceNorm2d(out_channel)\n",
    "    \n",
    "    def forward(self, x):\n",
    "        \n",
    "        x1 = self.c1(x)\n",
    "        x1 = self.n1(x1)\n",
    "        \n",
    "        x2 = self.c2(x)\n",
    "        x2 = self.n2(x2)\n",
    "       \n",
    "\n",
    "        x3 =  x1 * torch.sigmoid(x2)\n",
    "        \n",
    "        return x3"
   ]
  },
  {
   "cell_type": "code",
   "execution_count": 207,
   "metadata": {},
   "outputs": [],
   "source": [
    "class ConvTr2dNorm2d(nn.Module):\n",
    "    def __init__(self, in_channel ,out_channel, kernel, stride):\n",
    "        super(ConvTr2dNorm2d, self).__init__()\n",
    "\n",
    "        self.c1 = nn.ConvTranspose2d(in_channel, out_channel, kernel_size=kernel, stride=stride)\n",
    "        self.n1 = nn.InstanceNorm2d(out_channel)\n",
    "        self.c2 = nn.ConvTranspose2d(in_channel, out_channel, kernel_size=kernel, stride=stride)\n",
    "        self.n2 = nn.InstanceNorm2d(out_channel)\n",
    "    \n",
    "    def forward(self, x):\n",
    "        \n",
    "        x1 = self.c1(x)\n",
    "        x1 = self.n1(x1)\n",
    "        \n",
    "        x2 = self.c2(x)\n",
    "        x2 = self.n2(x2)\n",
    "        \n",
    "\n",
    "        x3 =  x1 * torch.sigmoid(x2)\n",
    "        \n",
    "        return x3"
   ]
  },
  {
   "cell_type": "code",
   "execution_count": 208,
   "metadata": {},
   "outputs": [],
   "source": [
    "batch_size = 512\n",
    "train_dataset = TensorDataset(X_train, y_train)\n",
    "val_dataset = TensorDataset(X_test, y_test)\n",
    "train_dataloader = DataLoader(train_dataset, batch_size=batch_size, shuffle=True)\n",
    "valid_dataloader = DataLoader(val_dataset, batch_size=batch_size, shuffle=False)"
   ]
  },
  {
   "cell_type": "code",
   "execution_count": 209,
   "metadata": {},
   "outputs": [],
   "source": [
    "class Net(nn.Module):\n",
    "\n",
    "    def __init__(self):\n",
    "        super(Net, self).__init__()\n",
    "        \n",
    "        self.Conv1d = nn.Conv1d(1, 128, 8)\n",
    "        self.Conv11d = nn.Conv1d(128, 256, 1)\n",
    "        self.MaxPool2d = nn.MaxPool1d(1, 2)\n",
    "        self.Conv2d = nn.Conv2d(256, 256, 1)\n",
    "        self.MaxPool1d = nn.MaxPool2d(1, 2)\n",
    "        self.Conv22d = nn.Conv2d(256, 128, 1)\n",
    "        self.Conv223d = nn.ConvTranspose2d(128, 128, 4)\n",
    "        self.Conv2233d = nn.ConvTranspose2d(128, 128, 1)\n",
    "        self.Conv3d = nn.ConvTranspose1d(128, 128, 1)\n",
    "        \n",
    "#        self.Conv3dNorm3d = Conv3dNorm3d(1, 1024, 1, 1)\n",
    "#        self.ConvTr2dNorm2d = ConvTr2dNorm2d(1, 2048, 8, 2)\n",
    "#        self.ConvTr2dNorm2d = ConvTr2dNorm2d(1, 8, 2, 2)\n",
    "#        self.MaxPool2d = nn.MaxPool1d(1, 2)\n",
    "#        self.Conv2d = nn.Conv2d(1, 8, 1)\n",
    "#        self.Conv2d_1 = nn.Conv2d(8, 1, 1)\n",
    "        \n",
    "#        self.Conv11d = nn.Conv1d(4, 4, 1075)\n",
    "#        self.Conv12d = nn.Conv1d(4, 4, 1024)\n",
    "#        self.Conv13d = nn.Conv1d(4, 4, 233)\n",
    "        \n",
    "        \n",
    "\n",
    "\n",
    "    def forward(self, x):\n",
    "        \n",
    "        \n",
    "        x = self.Conv1d(x)\n",
    "        x = self.MaxPool2d(x)\n",
    "        x = self.Conv11d(x)\n",
    "        x = self.MaxPool2d(x)\n",
    "        \n",
    "        x = x.view(x.size(0), x.size(1), x.size(1))\n",
    "        x = self.Conv2d(x)\n",
    "        x = self.MaxPool2d(x)\n",
    "        x = self.Conv22d(x)\n",
    "        x = self.Conv223d(x)\n",
    "        x = self.Conv2233d(x)\n",
    "        x = x.view(x.size(0), x.size(1) * x.size(2))\n",
    "        \n",
    "        x = F.relu(self.Conv3d(x))\n",
    "    \n",
    "\n",
    "#        x = self.Conv11d(x)\n",
    "        \n",
    "        \n",
    "        \n",
    "        \n",
    "        \n",
    "#        x = self.Conv3dNorm3d(x)\n",
    "#        x = self.ConvTr2dNorm2d(x)\n",
    "#        x = x.view(x.size(0) * x.size(1), x.size(2))\n",
    "#        x = self.Conv1d(x)\n",
    "#        x = self.Conv11d(x)\n",
    "#        x = self.Conv12d(x)\n",
    "        \n",
    "#        x = self.MaxPool2d(x)\n",
    "#        x = self.Conv13d(x)\n",
    "#        \n",
    "#       x = x.view(x.size(0) * x.size(1))\n",
    "\n",
    "        \n",
    "          #        x = self.Conv1d(x)\n",
    "#        x = x.view(x.size(0) * x.size(2), x.size(3))\n",
    "#        x = self.Conv1d(x)\n",
    "#        x = self.Conv11d(x)\n",
    "        \n",
    "        \n",
    "        return x\n",
    "\n",
    "\n",
    "net = Net()\n",
    "#print(net)"
   ]
  },
  {
   "cell_type": "code",
   "execution_count": 768,
   "metadata": {},
   "outputs": [],
   "source": [
    "import math"
   ]
  },
  {
   "cell_type": "code",
   "execution_count": 232,
   "metadata": {},
   "outputs": [],
   "source": [
    "class Net(nn.Module):\n",
    "\n",
    "    def __init__(self, upsamplings=6):\n",
    "        super(Net, self).__init__()\n",
    "        \n",
    "        self.Conv1d = nn.Conv1d(1, 128, 8)\n",
    "        self.Conv11d = nn.Conv1d(128, 256, 1)\n",
    "        self.MaxPool2d = nn.MaxPool1d(1, 2)\n",
    "        self.Conv2d = nn.Conv2d(256, 256, 1)\n",
    "        self.MaxPool1d = nn.MaxPool2d(1, 2)\n",
    "        self.Conv22d = nn.Conv2d(256, 1025, 1)\n",
    "        self.Conv223d = nn.ConvTranspose2d(1025, 1025, 4)\n",
    "        self.Conv2233d = nn.ConvTranspose2d(1025, 1025, 1)\n",
    "        self.Conv3d = nn.ConvTranspose1d(1025, 1025, 1)\n",
    "        \n",
    "        self.norm = nn.BatchNorm1d(4)\n",
    "        self.relu = nn.ReLU()\n",
    "        self.linear = nn.Linear(16, 1025)\n",
    "        self.linear1 = nn.Linear(1025, 16)\n",
    "\n",
    "\n",
    "    def forward(self, x):\n",
    "          \n",
    "        x = x*math.sin(0.5)   \n",
    "        x = self.relu(self.Conv1d(x))\n",
    "#        x = self.MaxPool2d(x)\n",
    "        x = self.Conv11d(x)\n",
    "#        x = self.MaxPool2d(x)\n",
    "        \n",
    "        x = x.view(x.size(0), x.size(1), x.size(1))\n",
    "        x = self.Conv2d(x)\n",
    "        x = self.MaxPool2d(x)\n",
    "        x = self.Conv22d(x)\n",
    "        x = self.Conv223d(x)\n",
    "        x = self.relu(self.Conv2233d(x))\n",
    "        \n",
    "        x = self.norm(x)\n",
    "        \n",
    "        x = x.view(x.size(0), x.size(1) * x.size(2))\n",
    "        \n",
    "        x = self.Conv3d(x)\n",
    "        #x = x*math.sin(0.5)\n",
    "        #x = self.linear(x)\n",
    "        #x = self.linear1(x)\n",
    "\n",
    "        return x\n",
    "\n",
    "net = Net()"
   ]
  },
  {
   "cell_type": "code",
   "execution_count": 233,
   "metadata": {},
   "outputs": [
    {
     "data": {
      "text/plain": [
       "torch.Size([1025, 16])"
      ]
     },
     "execution_count": 233,
     "metadata": {},
     "output_type": "execute_result"
    }
   ],
   "source": [
    "X_train_2 = net(X_train)\n",
    "np.shape(X_train_2)"
   ]
  },
  {
   "cell_type": "code",
   "execution_count": 234,
   "metadata": {},
   "outputs": [
    {
     "data": {
      "text/plain": [
       "tensor([-0.1823,  0.0646, -0.2305, -0.1112, -0.1748, -0.4877,  0.0032, -0.6606,\n",
       "        -0.2725,  0.0773, -0.3343,  0.2424, -0.1830, -0.6526,  0.2178, -0.0211],\n",
       "       grad_fn=<SelectBackward0>)"
      ]
     },
     "execution_count": 234,
     "metadata": {},
     "output_type": "execute_result"
    }
   ],
   "source": [
    "X_train_2[0]"
   ]
  },
  {
   "cell_type": "code",
   "execution_count": 235,
   "metadata": {},
   "outputs": [
    {
     "data": {
      "text/plain": [
       "(1025, 16)"
      ]
     },
     "execution_count": 235,
     "metadata": {},
     "output_type": "execute_result"
    }
   ],
   "source": [
    "np.shape(frame[0])"
   ]
  },
  {
   "cell_type": "code",
   "execution_count": 769,
   "metadata": {},
   "outputs": [],
   "source": [
    "from numpy import array\n",
    "def loss_train_test(outputs, labels):\n",
    "    C = []\n",
    "    C  = outputs - labels         \n",
    "    return sum(C)"
   ]
  },
  {
   "cell_type": "code",
   "execution_count": 237,
   "metadata": {},
   "outputs": [],
   "source": [
    "#loss_train_test(outputs, labels)"
   ]
  },
  {
   "cell_type": "code",
   "execution_count": 238,
   "metadata": {},
   "outputs": [],
   "source": [
    "def mean_squared_error(act, pred): # функция \n",
    "\n",
    "    diff = pred - act # находим разницу между прогнозируемыми и наблюдаемыми значениями\n",
    "    differences_squared = diff ** 2 # возводим в квадрат (чтобы избавиться от отрицательных значений)\n",
    "    mean_diff = differences_squared.mean() # находим среднее значение\n",
    "   \n",
    "    return mean_diff"
   ]
  },
  {
   "cell_type": "code",
   "execution_count": 239,
   "metadata": {},
   "outputs": [],
   "source": [
    "#mean_squared_error(outputs, labels)"
   ]
  },
  {
   "cell_type": "code",
   "execution_count": 240,
   "metadata": {},
   "outputs": [],
   "source": [
    "def mean_absolute_error(act, pred): #\n",
    "    act = act.detach().numpy()\n",
    "    pred = pred.detach().numpy()\n",
    "    diff = pred - act # находим разницу между прогнозируемыми и наблюдаемыми значениями\n",
    "    abs_diff = np.absolute(diff) # находим абсолютную разность между прогнозами и фактическими наблюдениями.\n",
    "    mean_diff = abs_diff.mean() # находим среднее значение\n",
    "    return mean_diff"
   ]
  },
  {
   "cell_type": "code",
   "execution_count": 241,
   "metadata": {},
   "outputs": [],
   "source": [
    "#mean_absolute_error(outputs, labels)"
   ]
  },
  {
   "cell_type": "code",
   "execution_count": 778,
   "metadata": {},
   "outputs": [],
   "source": [
    "from sklearn.metrics import log_loss"
   ]
  },
  {
   "cell_type": "code",
   "execution_count": null,
   "metadata": {},
   "outputs": [],
   "source": []
  },
  {
   "cell_type": "code",
   "execution_count": null,
   "metadata": {},
   "outputs": [],
   "source": []
  },
  {
   "cell_type": "code",
   "execution_count": 243,
   "metadata": {},
   "outputs": [],
   "source": [
    "from numpy import array\n",
    "A = array([\n",
    "  [[1,2,3],    [4,5,6],    [7,8,9]],\n",
    "  [[11,12,13], [14,15,16], [17,18,19]],\n",
    "  [[21,22,23], [24,25,26], [27,28,29]],\n",
    "  ])\n",
    "B = array([\n",
    "  [[1,2,3],    [4,5,6],    [7,8,9]],\n",
    "  [[11,12,13], [14,15,16], [17,18,19]],\n",
    "  [[21,22,23], [24,25,26], [27,28,29]],\n",
    "  ])\n",
    "C = A - B\n",
    "#print(C)"
   ]
  },
  {
   "cell_type": "code",
   "execution_count": null,
   "metadata": {},
   "outputs": [],
   "source": []
  },
  {
   "cell_type": "code",
   "execution_count": 798,
   "metadata": {},
   "outputs": [],
   "source": [
    "from torch import optim\n",
    "learning_rate = 0.01\n",
    "# Осуществляем оптимизацию путем стохастического градиентного спуска\n",
    "#optimizer = optim.SGD(net.parameters(), lr=0.1, momentum=0.9)\n",
    "optimizer = optim.Adam(net.parameters(), lr=0.1)\n",
    "# Создаем функцию потерь\n",
    "criterion = nn.MSELoss()\n",
    "#criterion = loss_train_test\n",
    "#criterion = nn.CrossEntropyLoss()"
   ]
  },
  {
   "cell_type": "code",
   "execution_count": null,
   "metadata": {},
   "outputs": [],
   "source": []
  },
  {
   "cell_type": "code",
   "execution_count": 245,
   "metadata": {},
   "outputs": [],
   "source": [
    "labss = y_test[0,0].to(device)\n",
    "#labs = labs.view(labs[0].size(0)* labs[0].size(1))\n",
    "labss = labs.detach().numpy()\n",
    "labss = np.hstack(labs)\n",
    "labss = torch.FloatTensor(labs)\n",
    "#labs = labs.view(labs.size(0)* labs.size(1))\n",
    "#labs = labs.type(torch.LongTensor)"
   ]
  },
  {
   "cell_type": "code",
   "execution_count": 246,
   "metadata": {},
   "outputs": [],
   "source": [
    "def get_test_loss(net, criterion, data_loader):\n",
    "    testing_loss = []\n",
    "    with torch.no_grad():\n",
    "        for data in data_loader:\n",
    "#            inputs, labels = data\n",
    "            inputs, labels = X_train.to(device), labss.to(device)\n",
    "            outputs = net(inputs)\n",
    "            outputs = outputs.to(device)\n",
    "        #labs = labs.view(labs[0].size(0)* labs[0].size(1))\n",
    "            outputs = outputs.detach().numpy()\n",
    "            outputs = np.hstack(outputs)\n",
    "            outputs = torch.FloatTensor(outputs)\n",
    "#            outputs = outputs.view(outputs.size(0)* outputs.size(1))\n",
    "#            labels = outputs.view(labels[0].size(0)* labels[0].size(1))\n",
    "#            labels = labels.type(torch.LongTensor)\n",
    "            loss = criterion(outputs, labels)\n",
    "    \n",
    "    \n",
    "            loss.requires_grad = True\n",
    "            optimizer.zero_grad()\n",
    "            loss.backward()\n",
    "            optimizer.step()\n",
    "            \n",
    "            \n",
    "            running_loss.append(loss.item())\n",
    "            testing_loss.append(loss.mean().detach().numpy())\n",
    "            #testing_loss.append(loss.cpu().detach().numpy())\n",
    "    return sum(testing_loss) / len(testing_loss)"
   ]
  },
  {
   "cell_type": "code",
   "execution_count": null,
   "metadata": {},
   "outputs": [],
   "source": []
  },
  {
   "cell_type": "code",
   "execution_count": 247,
   "metadata": {},
   "outputs": [
    {
     "data": {
      "text/plain": [
       "device(type='cpu')"
      ]
     },
     "execution_count": 247,
     "metadata": {},
     "output_type": "execute_result"
    }
   ],
   "source": [
    "device = torch.device('cuda:0' if torch.cuda.is_available() else 'cpu')\n",
    "device"
   ]
  },
  {
   "cell_type": "code",
   "execution_count": 248,
   "metadata": {},
   "outputs": [],
   "source": [
    "labs = y_train[0,0].to(device)\n",
    "#labs = labs.view(labs[0].size(0)* labs[0].size(1))\n",
    "labs = labs.detach().numpy()\n",
    "labs = np.hstack(labs)\n",
    "labs = torch.FloatTensor(labs)\n",
    "#labs = labs.view(labs.size(0)* labs.size(1))\n",
    "#labs = labs.type(torch.LongTensor)"
   ]
  },
  {
   "cell_type": "code",
   "execution_count": 249,
   "metadata": {},
   "outputs": [],
   "source": [
    "outputs = outputs.to(device)\n",
    "#labs = labs.view(labs[0].size(0)* labs[0].size(1))\n",
    "outputs = outputs.detach().numpy()\n",
    "outputs = np.hstack(outputs)\n",
    "outputs = torch.FloatTensor(outputs)"
   ]
  },
  {
   "cell_type": "code",
   "execution_count": 250,
   "metadata": {},
   "outputs": [
    {
     "data": {
      "text/plain": [
       "16400"
      ]
     },
     "execution_count": 250,
     "metadata": {},
     "output_type": "execute_result"
    }
   ],
   "source": [
    "len(outputs)"
   ]
  },
  {
   "cell_type": "code",
   "execution_count": 251,
   "metadata": {},
   "outputs": [
    {
     "name": "stdout",
     "output_type": "stream",
     "text": [
      "[ 0] [epoch=    1] Train Loss: 5.227, Test Loss: 80.128\n",
      "[ 1] [epoch=    2] Train Loss: 80.128, Test Loss: 118.854\n",
      "[ 2] [epoch=    3] Train Loss: 118.854, Test Loss: 1961.703\n",
      "[ 3] [epoch=    4] Train Loss: 1961.703, Test Loss: 154.847\n",
      "[ 4] [epoch=    5] Train Loss: 154.847, Test Loss: 438.012\n",
      "[ 5] [epoch=    6] Train Loss: 438.012, Test Loss: 233.886\n",
      "[ 6] [epoch=    7] Train Loss: 233.886, Test Loss: 155.396\n",
      "[ 7] [epoch=    8] Train Loss: 155.396, Test Loss: 121.406\n",
      "[ 8] [epoch=    9] Train Loss: 121.406, Test Loss: 73.910\n",
      "[ 9] [epoch=   10] Train Loss: 73.910, Test Loss: 44.002\n",
      "[10] [epoch=   11] Train Loss: 44.002, Test Loss: 31.110\n",
      "[11] [epoch=   12] Train Loss: 31.110, Test Loss: 24.219\n",
      "[12] [epoch=   13] Train Loss: 24.219, Test Loss: 18.248\n",
      "[13] [epoch=   14] Train Loss: 18.248, Test Loss: 12.960\n",
      "[14] [epoch=   15] Train Loss: 12.960, Test Loss: 9.230\n",
      "[15] [epoch=   16] Train Loss: 9.230, Test Loss: 7.371\n",
      "[16] [epoch=   17] Train Loss: 7.371, Test Loss: 7.162\n",
      "[17] [epoch=   18] Train Loss: 7.162, Test Loss: 8.160\n",
      "[18] [epoch=   19] Train Loss: 8.160, Test Loss: 9.798\n",
      "[19] [epoch=   20] Train Loss: 9.798, Test Loss: 11.448\n",
      "[20] [epoch=   21] Train Loss: 11.448, Test Loss: 12.599\n",
      "[21] [epoch=   22] Train Loss: 12.599, Test Loss: 13.039\n",
      "[22] [epoch=   23] Train Loss: 13.039, Test Loss: 12.869\n",
      "[23] [epoch=   24] Train Loss: 12.869, Test Loss: 12.343\n",
      "[24] [epoch=   25] Train Loss: 12.343, Test Loss: 11.690\n",
      "[25] [epoch=   26] Train Loss: 11.690, Test Loss: 11.038\n",
      "[26] [epoch=   27] Train Loss: 11.038, Test Loss: 10.428\n",
      "[27] [epoch=   28] Train Loss: 10.428, Test Loss: 9.862\n",
      "[28] [epoch=   29] Train Loss: 9.862, Test Loss: 9.332\n",
      "[29] [epoch=   30] Train Loss: 9.332, Test Loss: 8.836\n",
      "[30] [epoch=   31] Train Loss: 8.836, Test Loss: 8.376\n",
      "[31] [epoch=   32] Train Loss: 8.376, Test Loss: 7.953\n",
      "[32] [epoch=   33] Train Loss: 7.953, Test Loss: 7.570\n",
      "[33] [epoch=   34] Train Loss: 7.570, Test Loss: 7.229\n",
      "[34] [epoch=   35] Train Loss: 7.229, Test Loss: 6.935\n",
      "[35] [epoch=   36] Train Loss: 6.935, Test Loss: 6.696\n",
      "[36] [epoch=   37] Train Loss: 6.696, Test Loss: 6.520\n",
      "[37] [epoch=   38] Train Loss: 6.520, Test Loss: 6.407\n",
      "[38] [epoch=   39] Train Loss: 6.407, Test Loss: 6.347\n",
      "[39] [epoch=   40] Train Loss: 6.347, Test Loss: 6.312\n",
      "[40] [epoch=   41] Train Loss: 6.312, Test Loss: 6.265\n",
      "[41] [epoch=   42] Train Loss: 6.265, Test Loss: 6.169\n",
      "[42] [epoch=   43] Train Loss: 6.169, Test Loss: 6.005\n",
      "[43] [epoch=   44] Train Loss: 6.005, Test Loss: 5.777\n",
      "[44] [epoch=   45] Train Loss: 5.777, Test Loss: 5.516\n",
      "[45] [epoch=   46] Train Loss: 5.516, Test Loss: 5.258\n",
      "[46] [epoch=   47] Train Loss: 5.258, Test Loss: 5.040\n",
      "[47] [epoch=   48] Train Loss: 5.040, Test Loss: 4.881\n",
      "[48] [epoch=   49] Train Loss: 4.881, Test Loss: 4.785\n",
      "[49] [epoch=   50] Train Loss: 4.785, Test Loss: 4.741\n"
     ]
    }
   ],
   "source": [
    "training_loss, testing_loss = [], []\n",
    "running_loss = []\n",
    "loss = []\n",
    "i = 0\n",
    "for epoch in range(50): # 150 epochs\n",
    "    for data in train_dataloader:\n",
    "#        inputs, labels = data\n",
    "        inputs = X_train.to(device)\n",
    "        optimizer.zero_grad()\n",
    "    # forward pass\n",
    "        outputs = net(X_train)\n",
    "        #print(inputs)\n",
    "    # backward pass\n",
    "    \n",
    "        outputs = outputs.view(outputs.size(0)* outputs.size(1))\n",
    "#        labels = outputs.view(labels[0].size(0)* labels[0].size(1))\n",
    "        \n",
    "        labs = y_train[0,0].to(device)\n",
    "#labs = labs.view(labs[0].size(0)* labs[0].size(1))\n",
    "        labs = labs.detach().numpy()\n",
    "        labs = np.hstack(labs)\n",
    "        labs = torch.FloatTensor(labs)\n",
    "        \n",
    "\n",
    "        loss = criterion(outputs, labs)\n",
    "\n",
    "        loss.backward()\n",
    "        optimizer.step()\n",
    "        running_loss.append(loss.item())\n",
    "        i += 1\n",
    "        if i % 1 == 0:\n",
    "            avg_train_loss = sum(running_loss) / len(running_loss)\n",
    "            avg_test_loss = get_test_loss(net, criterion, valid_dataloader)\n",
    "            running_loss.clear()\n",
    "            training_loss.append(avg_train_loss)\n",
    "            testing_loss.append(avg_test_loss)\n",
    "            print(f\"[{epoch:2d}] [epoch={i:5d}] Train Loss: {avg_train_loss:.3f}, Test Loss: {avg_test_loss:.3f}\")"
   ]
  },
  {
   "cell_type": "code",
   "execution_count": 252,
   "metadata": {},
   "outputs": [
    {
     "data": {
      "text/plain": [
       "tensor([ 0.0492,  0.1358,  0.2134,  ...,  0.5724,  0.5095, -0.0975],\n",
       "       grad_fn=<ViewBackward0>)"
      ]
     },
     "execution_count": 252,
     "metadata": {},
     "output_type": "execute_result"
    }
   ],
   "source": [
    "outputs"
   ]
  },
  {
   "cell_type": "code",
   "execution_count": 74,
   "metadata": {},
   "outputs": [
    {
     "ename": "NameError",
     "evalue": "name 'poi' is not defined",
     "output_type": "error",
     "traceback": [
      "\u001b[1;31m---------------------------------------------------------------------------\u001b[0m",
      "\u001b[1;31mNameError\u001b[0m                                 Traceback (most recent call last)",
      "\u001b[1;32m<ipython-input-74-c64ec4b0dfde>\u001b[0m in \u001b[0;36m<module>\u001b[1;34m\u001b[0m\n\u001b[1;32m----> 1\u001b[1;33m \u001b[0mpoi\u001b[0m\u001b[1;33m\u001b[0m\u001b[1;33m\u001b[0m\u001b[0m\n\u001b[0m",
      "\u001b[1;31mNameError\u001b[0m: name 'poi' is not defined"
     ]
    }
   ],
   "source": [
    "poi"
   ]
  },
  {
   "cell_type": "code",
   "execution_count": 595,
   "metadata": {},
   "outputs": [
    {
     "data": {
      "text/plain": [
       "array([[ 0.01892634,  0.01597629,  0.02000322, ...,  0.09664902,\n",
       "         0.11594978,  0.20912099],\n",
       "       [ 0.07413   ,  0.0966982 ,  0.08065092, ..., -0.03750169,\n",
       "         0.11609471, -0.31105977],\n",
       "       [ 0.02287906,  0.00289222,  0.00183497, ...,  0.32611805,\n",
       "         0.13143425,  0.3663001 ],\n",
       "       ...,\n",
       "       [-0.0459429 , -0.04733328, -0.04746598, ..., -0.02383243,\n",
       "        -0.06360698,  0.06495581],\n",
       "       [ 0.31910643,  0.31300074,  0.32173938, ...,  0.38301224,\n",
       "         0.42616642,  0.24996184],\n",
       "       [-0.1488808 , -0.16527772, -0.1504189 , ..., -0.06282197,\n",
       "        -0.18504924,  0.47339118]], dtype=float32)"
      ]
     },
     "execution_count": 595,
     "metadata": {},
     "output_type": "execute_result"
    }
   ],
   "source": [
    "final"
   ]
  },
  {
   "cell_type": "code",
   "execution_count": 596,
   "metadata": {},
   "outputs": [
    {
     "data": {
      "text/plain": [
       "16400"
      ]
     },
     "execution_count": 596,
     "metadata": {},
     "output_type": "execute_result"
    }
   ],
   "source": [
    "16*1025"
   ]
  },
  {
   "cell_type": "code",
   "execution_count": 510,
   "metadata": {},
   "outputs": [
    {
     "data": {
      "text/plain": [
       "<matplotlib.collections.QuadMesh at 0x264438aac70>"
      ]
     },
     "execution_count": 510,
     "metadata": {},
     "output_type": "execute_result"
    },
    {
     "data": {
      "image/png": "[encoded data removed]",
      "text/plain": [
       "<Figure size 432x288 with 1 Axes>"
      ]
     },
     "metadata": {},
     "output_type": "display_data"
    }
   ],
   "source": [
    "import scipy as sp\n",
    "from scipy.io.wavfile import write\n",
    "poi = outputs\n",
    "poi = poi.detach().numpy()\n",
    "final = []\n",
    "for i in range(len(frame[0])):\n",
    "    i = i*16\n",
    "    final.append(np.array(poi[i:i+16]))\n",
    "final = np.array(final)\n",
    "Ss = librosa.feature.inverse.mel_to_audio(final)\n",
    "sp.io.wavfile.write (\"P.wav\", sr, Ss)\n",
    "import librosa.display\n",
    "librosa.display.specshow(final, x_axis=None,  y_axis=None, sr=sr)"
   ]
  },
  {
   "cell_type": "code",
   "execution_count": 511,
   "metadata": {},
   "outputs": [
    {
     "name": "stderr",
     "output_type": "stream",
     "text": [
      "<ipython-input-511-a3b1b9f3f8c4>:1: UserWarning: Trying to display complex-valued input. Showing magnitude instead.\n",
      "  librosa.display.specshow(frame[0], x_axis=None,  y_axis=None, sr=sr)\n"
     ]
    },
    {
     "data": {
      "text/plain": [
       "<matplotlib.collections.QuadMesh at 0x26443b31910>"
      ]
     },
     "execution_count": 511,
     "metadata": {},
     "output_type": "execute_result"
    },
    {
     "data": {
      "image/png": "[encoded data removed]",
      "text/plain": [
       "<Figure size 432x288 with 1 Axes>"
      ]
     },
     "metadata": {},
     "output_type": "display_data"
    }
   ],
   "source": [
    "librosa.display.specshow(frame[0], x_axis=None,  y_axis=None, sr=sr)"
   ]
  },
  {
   "cell_type": "code",
   "execution_count": null,
   "metadata": {},
   "outputs": [],
   "source": []
  },
  {
   "cell_type": "code",
   "execution_count": null,
   "metadata": {},
   "outputs": [],
   "source": []
  },
  {
   "cell_type": "code",
   "execution_count": 253,
   "metadata": {},
   "outputs": [],
   "source": [
    "A = outputs"
   ]
  },
  {
   "cell_type": "code",
   "execution_count": 254,
   "metadata": {},
   "outputs": [
    {
     "data": {
      "text/plain": [
       "tensor([ 0.0492,  0.1358,  0.2134,  ...,  0.5724,  0.5095, -0.0975],\n",
       "       grad_fn=<ViewBackward0>)"
      ]
     },
     "execution_count": 254,
     "metadata": {},
     "output_type": "execute_result"
    }
   ],
   "source": [
    "A"
   ]
  },
  {
   "cell_type": "code",
   "execution_count": 686,
   "metadata": {},
   "outputs": [],
   "source": [
    "#U = outputs"
   ]
  },
  {
   "cell_type": "code",
   "execution_count": 687,
   "metadata": {},
   "outputs": [
    {
     "data": {
      "text/plain": [
       "tensor([ 1.3434,  1.2021,  2.1149,  ..., -0.0307, -0.0067, -0.0551],\n",
       "       grad_fn=<ViewBackward0>)"
      ]
     },
     "execution_count": 687,
     "metadata": {},
     "output_type": "execute_result"
    }
   ],
   "source": [
    "U"
   ]
  },
  {
   "cell_type": "code",
   "execution_count": 165,
   "metadata": {},
   "outputs": [],
   "source": [
    "P = outputs"
   ]
  },
  {
   "cell_type": "code",
   "execution_count": 166,
   "metadata": {},
   "outputs": [
    {
     "data": {
      "text/plain": [
       "tensor([-0.0526,  0.0205, -0.0480,  ..., -0.0081, -0.0009,  0.0761],\n",
       "       grad_fn=<ViewBackward0>)"
      ]
     },
     "execution_count": 166,
     "metadata": {},
     "output_type": "execute_result"
    }
   ],
   "source": [
    "P"
   ]
  },
  {
   "cell_type": "code",
   "execution_count": 690,
   "metadata": {},
   "outputs": [],
   "source": [
    "#M = outputs"
   ]
  },
  {
   "cell_type": "code",
   "execution_count": 691,
   "metadata": {},
   "outputs": [
    {
     "data": {
      "text/plain": [
       "tensor([ 0.4199,  0.0535,  0.9254,  ..., -0.0155, -0.2579,  0.0715],\n",
       "       grad_fn=<ViewBackward0>)"
      ]
     },
     "execution_count": 691,
     "metadata": {},
     "output_type": "execute_result"
    }
   ],
   "source": [
    "M"
   ]
  },
  {
   "cell_type": "code",
   "execution_count": 256,
   "metadata": {},
   "outputs": [],
   "source": [
    "#Aa = np.array(A)\n",
    "#Aa = torch.FloatTensor(Aa)\n",
    "#Pp = P.detach().numpy()\n",
    "#Pp = torch.FloatTensor(Pp)\n",
    "slovo_1 = []\n",
    "slovo_1 = torch.cat([P,A,P,A])"
   ]
  },
  {
   "cell_type": "code",
   "execution_count": 846,
   "metadata": {},
   "outputs": [],
   "source": [
    "slovo_2 = []\n",
    "slovo_2 = torch.cat([P,A,P,A])"
   ]
  },
  {
   "cell_type": "code",
   "execution_count": 847,
   "metadata": {},
   "outputs": [
    {
     "data": {
      "text/plain": [
       "torch.Size([65600])"
      ]
     },
     "execution_count": 847,
     "metadata": {},
     "output_type": "execute_result"
    }
   ],
   "source": [
    "slovo_2.shape"
   ]
  },
  {
   "cell_type": "code",
   "execution_count": 848,
   "metadata": {},
   "outputs": [],
   "source": [
    "import scipy as sp\n",
    "from scipy.io.wavfile import write\n",
    "poi = slovo_2\n",
    "poi = poi.detach().numpy()\n",
    "final = []\n",
    "for i in range(4100):\n",
    "    i = i*16\n",
    "    final.append(poi[i:i+16])"
   ]
  },
  {
   "cell_type": "code",
   "execution_count": 849,
   "metadata": {},
   "outputs": [],
   "source": [
    "final = np.array(final)"
   ]
  },
  {
   "cell_type": "code",
   "execution_count": 850,
   "metadata": {},
   "outputs": [
    {
     "data": {
      "text/plain": [
       "(4100, 16)"
      ]
     },
     "execution_count": 850,
     "metadata": {},
     "output_type": "execute_result"
    }
   ],
   "source": [
    "final.shape"
   ]
  },
  {
   "cell_type": "code",
   "execution_count": 320,
   "metadata": {},
   "outputs": [
    {
     "data": {
      "text/plain": [
       "4100"
      ]
     },
     "execution_count": 320,
     "metadata": {},
     "output_type": "execute_result"
    }
   ],
   "source": [
    "1025*4"
   ]
  },
  {
   "cell_type": "code",
   "execution_count": 851,
   "metadata": {},
   "outputs": [
    {
     "data": {
      "text/plain": [
       "torch.Size([1, 1025, 16])"
      ]
     },
     "execution_count": 851,
     "metadata": {},
     "output_type": "execute_result"
    }
   ],
   "source": [
    "mfccs_papa.shape"
   ]
  },
  {
   "cell_type": "code",
   "execution_count": 261,
   "metadata": {},
   "outputs": [
    {
     "data": {
      "text/plain": [
       "65600"
      ]
     },
     "execution_count": 261,
     "metadata": {},
     "output_type": "execute_result"
    }
   ],
   "source": [
    "4100*16"
   ]
  },
  {
   "cell_type": "code",
   "execution_count": 852,
   "metadata": {},
   "outputs": [
    {
     "data": {
      "text/plain": [
       "torch.Size([65600])"
      ]
     },
     "execution_count": 852,
     "metadata": {},
     "output_type": "execute_result"
    }
   ],
   "source": [
    "slovo_2.shape"
   ]
  },
  {
   "cell_type": "code",
   "execution_count": 263,
   "metadata": {},
   "outputs": [
    {
     "name": "stderr",
     "output_type": "stream",
     "text": [
      "C:\\Users\\Alexandra\\anaconda3\\lib\\site-packages\\librosa\\feature\\inverse.py:99: UserWarning: Empty filters detected in mel frequency basis. Some channels will produce empty responses. Try increasing your sampling rate (and fmax) or reducing n_mels.\n",
      "  mel_basis = filters.mel(\n"
     ]
    },
    {
     "data": {
      "text/plain": [
       "<matplotlib.collections.QuadMesh at 0x20e844976a0>"
      ]
     },
     "execution_count": 263,
     "metadata": {},
     "output_type": "execute_result"
    },
    {
     "data": {
      "image/png": "[encoded data removed]",
      "text/plain": [
       "<Figure size 432x288 with 1 Axes>"
      ]
     },
     "metadata": {},
     "output_type": "display_data"
    }
   ],
   "source": [
    "Ss = librosa.feature.inverse.mel_to_audio(final)\n",
    "sp.io.wavfile.write (\"PAPA.wav\", sr, Ss)\n",
    "import librosa.display\n",
    "librosa.display.specshow(final, x_axis=None,  y_axis=None, sr=sr)"
   ]
  },
  {
   "cell_type": "code",
   "execution_count": null,
   "metadata": {},
   "outputs": [],
   "source": []
  },
  {
   "cell_type": "code",
   "execution_count": 337,
   "metadata": {
    "scrolled": true
   },
   "outputs": [
    {
     "name": "stdout",
     "output_type": "stream",
     "text": [
      "['papa.wav', 'papa2.wav']\n"
     ]
    }
   ],
   "source": [
    "files = [f for f in os.listdir('../../Test01/Test5/data/') if os.path.isfile(f) and f.endswith(\".wav\")]\n",
    "print(files)"
   ]
  },
  {
   "cell_type": "code",
   "execution_count": 338,
   "metadata": {},
   "outputs": [
    {
     "data": {
      "text/plain": [
       "'papa2.wav'"
      ]
     },
     "execution_count": 338,
     "metadata": {},
     "output_type": "execute_result"
    }
   ],
   "source": [
    "files[1]"
   ]
  },
  {
   "cell_type": "code",
   "execution_count": 371,
   "metadata": {},
   "outputs": [],
   "source": [
    "y , sr = sf.read(files[0])\n",
    "mfccs = librosa.stft(y=y, hop_length=512)"
   ]
  },
  {
   "cell_type": "code",
   "execution_count": 372,
   "metadata": {},
   "outputs": [
    {
     "data": {
      "text/plain": [
       "22050"
      ]
     },
     "execution_count": 372,
     "metadata": {},
     "output_type": "execute_result"
    }
   ],
   "source": [
    "sr"
   ]
  },
  {
   "cell_type": "code",
   "execution_count": 373,
   "metadata": {},
   "outputs": [
    {
     "data": {
      "text/plain": [
       "(1025, 16)"
      ]
     },
     "execution_count": 373,
     "metadata": {},
     "output_type": "execute_result"
    }
   ],
   "source": [
    "mfccs.shape"
   ]
  },
  {
   "cell_type": "code",
   "execution_count": 374,
   "metadata": {},
   "outputs": [
    {
     "data": {
      "text/plain": [
       "65600"
      ]
     },
     "execution_count": 374,
     "metadata": {},
     "output_type": "execute_result"
    }
   ],
   "source": [
    "1025*64"
   ]
  },
  {
   "cell_type": "code",
   "execution_count": 375,
   "metadata": {},
   "outputs": [
    {
     "data": {
      "text/plain": [
       "65600"
      ]
     },
     "execution_count": 375,
     "metadata": {},
     "output_type": "execute_result"
    }
   ],
   "source": [
    "4100*16"
   ]
  },
  {
   "cell_type": "code",
   "execution_count": 376,
   "metadata": {},
   "outputs": [
    {
     "data": {
      "text/plain": [
       "1.464"
      ]
     },
     "execution_count": 376,
     "metadata": {},
     "output_type": "execute_result"
    }
   ],
   "source": [
    "0.366*4"
   ]
  },
  {
   "cell_type": "code",
   "execution_count": 377,
   "metadata": {},
   "outputs": [],
   "source": [
    "mfccs_papa = np.array(mfccs)\n",
    "mfccs_papa = torch.FloatTensor(mfccs_papa)\n",
    "mfccs_papa = torch.unsqueeze(mfccs_papa, 0)"
   ]
  },
  {
   "cell_type": "code",
   "execution_count": 378,
   "metadata": {},
   "outputs": [
    {
     "data": {
      "text/plain": [
       "torch.Size([1, 1025, 16])"
      ]
     },
     "execution_count": 378,
     "metadata": {},
     "output_type": "execute_result"
    }
   ],
   "source": [
    "mfccs_papa.shape"
   ]
  },
  {
   "cell_type": "code",
   "execution_count": 856,
   "metadata": {},
   "outputs": [],
   "source": [
    "final = np.array(final)\n",
    "final = torch.FloatTensor(final)\n",
    "final = torch.unsqueeze(final, 0)"
   ]
  },
  {
   "cell_type": "code",
   "execution_count": 857,
   "metadata": {},
   "outputs": [
    {
     "data": {
      "text/plain": [
       "torch.Size([1, 4100, 16])"
      ]
     },
     "execution_count": 857,
     "metadata": {},
     "output_type": "execute_result"
    }
   ],
   "source": [
    "final.shape"
   ]
  },
  {
   "cell_type": "code",
   "execution_count": 858,
   "metadata": {},
   "outputs": [
    {
     "data": {
      "text/plain": [
       "torch.Size([1, 1025, 16])"
      ]
     },
     "execution_count": 858,
     "metadata": {},
     "output_type": "execute_result"
    }
   ],
   "source": [
    "mfccs_papa.shape"
   ]
  },
  {
   "cell_type": "code",
   "execution_count": 279,
   "metadata": {},
   "outputs": [],
   "source": [
    "#slovoo = slovo"
   ]
  },
  {
   "cell_type": "code",
   "execution_count": 1167,
   "metadata": {},
   "outputs": [],
   "source": [
    "#slovo = slovo.view(slovo.size(0) *slovo.size(1) *slovo.size(2), slovo.size(3))"
   ]
  },
  {
   "cell_type": "code",
   "execution_count": 860,
   "metadata": {},
   "outputs": [],
   "source": [
    "#slovo"
   ]
  },
  {
   "cell_type": "code",
   "execution_count": 861,
   "metadata": {},
   "outputs": [
    {
     "data": {
      "text/plain": [
       "tensor([[[[-0.0374, -0.0077,  0.0388,  ...,  0.0413, -0.0396, -0.1384],\n",
       "          [ 0.0446, -0.0211, -0.0255,  ...,  0.1152, -0.1817,  0.2625],\n",
       "          [-0.0161,  0.0288, -0.1439,  ..., -0.4938,  0.6005, -0.3681],\n",
       "          ...,\n",
       "          [-0.5537,  0.5251,  0.0932,  ...,  1.8748, -1.9238,  1.1933],\n",
       "          [ 0.8178,  0.2983, -0.2566,  ..., -2.2132,  1.5343, -0.0486],\n",
       "          [-0.8731, -0.5459,  0.3636,  ...,  1.3390, -0.5145, -0.6239]]]])"
      ]
     },
     "execution_count": 861,
     "metadata": {},
     "output_type": "execute_result"
    }
   ],
   "source": [
    "mfccs_papaa"
   ]
  },
  {
   "cell_type": "code",
   "execution_count": 864,
   "metadata": {},
   "outputs": [
    {
     "data": {
      "text/plain": [
       "torch.Size([1, 1, 65600])"
      ]
     },
     "execution_count": 864,
     "metadata": {},
     "output_type": "execute_result"
    }
   ],
   "source": [
    "slovo_1.shape"
   ]
  },
  {
   "cell_type": "code",
   "execution_count": 866,
   "metadata": {},
   "outputs": [],
   "source": [
    "#slovoo = torch.unsqueeze(slovoo, 0)\n",
    "#slovoo = slovoo.detach().numpy()\n",
    "#slovoo = np.array(slovoo)\n",
    "#slovoo = torch.FloatTensor(slovoo)\n",
    "#slovoo = [t.numpy() for t in slovoo]"
   ]
  },
  {
   "cell_type": "code",
   "execution_count": 867,
   "metadata": {},
   "outputs": [],
   "source": [
    "slovo_1 = torch.unsqueeze(slovo_1, 0)"
   ]
  },
  {
   "cell_type": "code",
   "execution_count": 868,
   "metadata": {},
   "outputs": [
    {
     "data": {
      "text/plain": [
       "torch.Size([1, 1, 1, 65600])"
      ]
     },
     "execution_count": 868,
     "metadata": {},
     "output_type": "execute_result"
    }
   ],
   "source": [
    "slovo_1.shape"
   ]
  },
  {
   "cell_type": "code",
   "execution_count": 543,
   "metadata": {},
   "outputs": [],
   "source": [
    "class Nete(nn.Module):\n",
    "\n",
    "    def __init__(self):\n",
    "        super(Nete, self).__init__()\n",
    "        \n",
    "        self.Conv1d = nn.Conv1d(4100, 4100, 1)\n",
    "        self.Conv11d = nn.Conv1d(4100, 2050, 1)\n",
    "        self.Conv22d = nn.Conv1d(2050, 2050, 1)\n",
    "        self.Conv2d = nn.Conv1d(2050, 1025, 1)\n",
    "        self.Conv4d = nn.Conv1d(1025, 1025, 1)\n",
    "        \n",
    "        self.linear = nn.Linear(16, 16)\n",
    "        self.linear1 = nn.Linear(16, 16)\n",
    "        \n",
    "        self.norm = nn.BatchNorm1d(1025)\n",
    "        self.relu = nn.ReLU()\n",
    "        \n",
    "        \n",
    "\n",
    "\n",
    "    def forward(self, x):\n",
    "          \n",
    "        x = self.relu(self.Conv1d(x))\n",
    "#        x = self.MaxPool2d(x)\n",
    "        x = self.Conv11d(x)\n",
    "#        x = self.MaxPool2d(x)\n",
    "        x = self.Conv22d(x)\n",
    "        x = self.Conv2d(x)\n",
    "        x = self.relu(self.Conv4d(x))\n",
    "        x = self.norm(x)\n",
    "\n",
    "        #x = self.linear(x)\n",
    "        #x = self.linear1(x)\n",
    "\n",
    "        return x\n",
    "\n",
    "nete = Nete()"
   ]
  },
  {
   "cell_type": "code",
   "execution_count": 544,
   "metadata": {},
   "outputs": [
    {
     "data": {
      "text/plain": [
       "torch.Size([1, 1025, 16])"
      ]
     },
     "execution_count": 544,
     "metadata": {},
     "output_type": "execute_result"
    }
   ],
   "source": [
    "X_train_111 = nete(final)\n",
    "np.shape(X_train_111)"
   ]
  },
  {
   "cell_type": "code",
   "execution_count": 545,
   "metadata": {},
   "outputs": [
    {
     "data": {
      "text/plain": [
       "torch.Size([1, 1025, 16])"
      ]
     },
     "execution_count": 545,
     "metadata": {},
     "output_type": "execute_result"
    }
   ],
   "source": [
    "mfccs_papa.shape"
   ]
  },
  {
   "cell_type": "code",
   "execution_count": 546,
   "metadata": {},
   "outputs": [
    {
     "data": {
      "text/plain": [
       "torch.Size([1, 4100, 16])"
      ]
     },
     "execution_count": 546,
     "metadata": {},
     "output_type": "execute_result"
    }
   ],
   "source": [
    "final.shape"
   ]
  },
  {
   "cell_type": "code",
   "execution_count": null,
   "metadata": {},
   "outputs": [],
   "source": []
  },
  {
   "cell_type": "code",
   "execution_count": 547,
   "metadata": {},
   "outputs": [],
   "source": [
    "#learning_rate = 0.01\n",
    "# Осуществляем оптимизацию путем стохастического градиентного спуска\n",
    "#optimizerr = optim.SGD(nete.parameters(), lr=0.1, momentum=0.9)\n",
    "optimizer = optim.Adam(nete.parameters(), lr=0.1)\n",
    "# Создаем функцию потерь\n",
    "criterionn = nn.MSELoss()\n",
    "#criterion = loss_train_tes"
   ]
  },
  {
   "cell_type": "code",
   "execution_count": 519,
   "metadata": {},
   "outputs": [],
   "source": [
    "#labs = mfccs_papa.to(device)\n",
    "#labs = labs.view(labs[0].size(0)* labs[0].size(1))\n",
    "#labss = labss.detach().numpy()\n",
    "#labss = np.hstack(labss)\n",
    "#labss = np.hstack(labss)\n",
    "#labss = torch.FloatTensor(labss)\n",
    "#labs = labs.view(labs.size(0)* labs.size(1))\n",
    "#labs = labs.type(torch.LongTensor)"
   ]
  },
  {
   "cell_type": "code",
   "execution_count": 520,
   "metadata": {},
   "outputs": [],
   "source": [
    "#outputss = nete(slovo_1)\n",
    "#outputss = outputss.to(device)\n",
    "#outputs = outputs.view(outputs.size(0)* outputs.size(1))\n",
    "#labs = labs.view(labs[0].size(0)* labs[0].size(1))\n",
    "#outputss = outputss.detach().numpy()\n",
    "#outputss = np.hstack(outputss)\n",
    "#outputss = np.hstack(outputss)\n",
    "#outputss = torch.FloatTensor(outputss)"
   ]
  },
  {
   "cell_type": "code",
   "execution_count": null,
   "metadata": {},
   "outputs": [],
   "source": []
  },
  {
   "cell_type": "code",
   "execution_count": 548,
   "metadata": {},
   "outputs": [
    {
     "data": {
      "text/plain": [
       "device(type='cpu')"
      ]
     },
     "execution_count": 548,
     "metadata": {},
     "output_type": "execute_result"
    }
   ],
   "source": [
    "device = torch.device('cuda:0' if torch.cuda.is_available() else 'cpu')\n",
    "device"
   ]
  },
  {
   "cell_type": "code",
   "execution_count": 549,
   "metadata": {},
   "outputs": [],
   "source": [
    "batch_size = 512\n",
    "train_datasets = TensorDataset(final, mfccs_papa)\n",
    "train_dataloaders = DataLoader(train_datasets, batch_size=batch_size, shuffle=True)"
   ]
  },
  {
   "cell_type": "code",
   "execution_count": 523,
   "metadata": {},
   "outputs": [
    {
     "name": "stdout",
     "output_type": "stream",
     "text": [
      "[ 0] [epoch=    1] Train Loss: 0.517\n",
      "[ 1] [epoch=    2] Train Loss: 0.517\n",
      "[ 2] [epoch=    3] Train Loss: 0.517\n",
      "[ 3] [epoch=    4] Train Loss: 0.517\n",
      "[ 4] [epoch=    5] Train Loss: 0.517\n",
      "[ 5] [epoch=    6] Train Loss: 0.517\n",
      "[ 6] [epoch=    7] Train Loss: 0.517\n",
      "[ 7] [epoch=    8] Train Loss: 0.517\n",
      "[ 8] [epoch=    9] Train Loss: 0.517\n",
      "[ 9] [epoch=   10] Train Loss: 0.517\n"
     ]
    }
   ],
   "source": [
    "training_loss, testing_loss = [], []\n",
    "running_loss = []\n",
    "loss = []\n",
    "i = 0\n",
    "for epoch in range(10):\n",
    "    for data in train_dataloaders:\n",
    "        \n",
    "        inputs = final.to(device)\n",
    "        optimizer.zero_grad()\n",
    "\n",
    "        outputss = nete(inputs)\n",
    "\n",
    "        outputss = outputss.detach().numpy()\n",
    "        outputss = np.hstack(outputss)\n",
    "#        outputss = np.hstack(outputss) \n",
    "        outputss = torch.FloatTensor(outputss)\n",
    "        outputss.requires_grad=True\n",
    "#        outputss = outputss.to(device)\n",
    "        \n",
    "        labss = mfccs_papa.to(device)\n",
    "        labss = labss.detach().numpy()\n",
    "        labss = np.hstack(labss)\n",
    "       # labss = np.hstack(labss)\n",
    "        labss = torch.FloatTensor(labss)\n",
    "        labss.requires_grad=True\n",
    "        \n",
    "        los = criterionn(outputss, labss)\n",
    "   #     los.requires_grad=True\n",
    "        \n",
    "        los.backward()\n",
    "        optimizerr.step()\n",
    "        running_loss.append(los.item())\n",
    "        i += 1\n",
    "        if i % 1 == 0:\n",
    "            avg_train_loss = sum(running_loss) / len(running_loss)\n",
    "            \n",
    "            running_loss.clear()\n",
    "            training_loss.append(avg_train_loss)\n",
    "            \n",
    "            print(f\"[{epoch:2d}] [epoch={i:5d}] Train Loss: {avg_train_loss:.3f}\")"
   ]
  },
  {
   "cell_type": "code",
   "execution_count": 524,
   "metadata": {},
   "outputs": [
    {
     "data": {
      "text/plain": [
       "True"
      ]
     },
     "execution_count": 524,
     "metadata": {},
     "output_type": "execute_result"
    }
   ],
   "source": [
    "outputss.size() == labss.size()"
   ]
  },
  {
   "cell_type": "code",
   "execution_count": 527,
   "metadata": {},
   "outputs": [
    {
     "name": "stdout",
     "output_type": "stream",
     "text": [
      "[ 0] [epoch=    1] Train Loss: 12587399905280.000\n",
      "[ 1] [epoch=    2] Train Loss: 47953355997184.000\n",
      "[ 2] [epoch=    3] Train Loss: 2.062\n",
      "[ 3] [epoch=    4] Train Loss: 7927497752576.000\n",
      "[ 4] [epoch=    5] Train Loss: 2.361\n",
      "[ 5] [epoch=    6] Train Loss: 2.501\n",
      "[ 6] [epoch=    7] Train Loss: 3905087344738304.000\n",
      "[ 7] [epoch=    8] Train Loss: 2.758\n",
      "[ 8] [epoch=    9] Train Loss: 1532817188061184.000\n",
      "[ 9] [epoch=   10] Train Loss: 2.983\n"
     ]
    }
   ],
   "source": [
    "training_loss, testing_loss = [], []\n",
    "running_loss = []\n",
    "loss = []\n",
    "i = 0\n",
    "for epoch in range(10): # 150 epochs\n",
    "    for data in train_dataloaders:\n",
    "#        inputs, labels = data\n",
    "        inputs = final.to(device)\n",
    "        optimizer.zero_grad()\n",
    "    # forward pass\n",
    "        outputs = nete(final)\n",
    "        #print(inputs)\n",
    "    # backward pass\n",
    "    \n",
    "       # outputs = outputs.view(outputs.size(0)* outputs.size(1))\n",
    "#        labels = outputs.view(labels[0].size(0)* labels[0].size(1))\n",
    "        \n",
    "        labs = mfccs_papa.to(device)\n",
    "#labs = labs.view(labs[0].size(0)* labs[0].size(1))\n",
    "        labs = labs.detach().numpy()\n",
    "        labs = np.hstack(labs)\n",
    "        labs = torch.FloatTensor(labs)\n",
    "        \n",
    "\n",
    "        loss = criterion(outputs, labs)\n",
    "\n",
    "        loss.backward()\n",
    "        optimizer.step()\n",
    "        running_loss.append(loss.item())\n",
    "        i += 1\n",
    "        if i % 1 == 0:\n",
    "            avg_train_loss = sum(running_loss) / len(running_loss)\n",
    "            #avg_test_loss = get_test_loss(net, criterion, valid_dataloader)\n",
    "            running_loss.clear()\n",
    "            training_loss.append(avg_train_loss)\n",
    "           # testing_loss.append(avg_test_loss)\n",
    "            print(f\"[{epoch:2d}] [epoch={i:5d}] Train Loss: {avg_train_loss:.3f}\")"
   ]
  },
  {
   "cell_type": "code",
   "execution_count": 550,
   "metadata": {},
   "outputs": [
    {
     "name": "stdout",
     "output_type": "stream",
     "text": [
      "[ 0] [epoch=    1] Train Loss: 1.252\n",
      "[ 1] [epoch=    2] Train Loss: 0.768\n",
      "[ 2] [epoch=    3] Train Loss: 0.677\n",
      "[ 3] [epoch=    4] Train Loss: 0.598\n",
      "[ 4] [epoch=    5] Train Loss: 0.554\n",
      "[ 5] [epoch=    6] Train Loss: 0.520\n",
      "[ 6] [epoch=    7] Train Loss: 0.494\n",
      "[ 7] [epoch=    8] Train Loss: 0.474\n",
      "[ 8] [epoch=    9] Train Loss: 0.462\n",
      "[ 9] [epoch=   10] Train Loss: 0.453\n"
     ]
    }
   ],
   "source": [
    "training_loss, testing_loss = [], []\n",
    "running_loss = []\n",
    "loss = []\n",
    "i = 0\n",
    "for epoch in range(10): # 150 epochs\n",
    "    for data in train_dataloaders:\n",
    "#        inputs, labels = data\n",
    "        inputs = final.to(device)\n",
    "        optimizer.zero_grad()\n",
    "    # forward pass\n",
    "        outputs = nete(final)\n",
    "        #print(inputs)\n",
    "    # backward pass\n",
    "    \n",
    "       # outputs = outputs.view(outputs.size(0)* outputs.size(1))\n",
    "#        labels = outputs.view(labels[0].size(0)* labels[0].size(1))\n",
    "        \n",
    "        labs = mfccs_papa.to(device)\n",
    "#labs = labs.view(labs[0].size(0)* labs[0].size(1))\n",
    "        labs = labs.detach().numpy()\n",
    "        labs = np.hstack(labs)\n",
    "        labs = torch.FloatTensor(labs)\n",
    "        \n",
    "\n",
    "        loss = criterion(outputs, labs)\n",
    "\n",
    "        loss.backward()\n",
    "        optimizer.step()\n",
    "        running_loss.append(loss.item())\n",
    "        i += 1\n",
    "        if i % 1 == 0:\n",
    "            avg_train_loss = sum(running_loss) / len(running_loss)\n",
    "            \n",
    "            running_loss.clear()\n",
    "            training_loss.append(avg_train_loss)\n",
    "           \n",
    "            print(f\"[{epoch:2d}] [epoch={i:5d}] Train Loss: {avg_train_loss:.3f}\")"
   ]
  },
  {
   "cell_type": "code",
   "execution_count": 601,
   "metadata": {},
   "outputs": [],
   "source": [
    "OPEN = outputs\n",
    "OPEN_2 = outputs"
   ]
  },
  {
   "cell_type": "code",
   "execution_count": 594,
   "metadata": {},
   "outputs": [
    {
     "data": {
      "text/plain": [
       "torch.Size([1, 1025, 16])"
      ]
     },
     "execution_count": 594,
     "metadata": {},
     "output_type": "execute_result"
    }
   ],
   "source": [
    "OPEN.shape"
   ]
  },
  {
   "cell_type": "code",
   "execution_count": null,
   "metadata": {},
   "outputs": [],
   "source": []
  },
  {
   "cell_type": "code",
   "execution_count": 623,
   "metadata": {},
   "outputs": [
    {
     "data": {
      "text/plain": [
       "(1, 1025, 16)"
      ]
     },
     "execution_count": 623,
     "metadata": {},
     "output_type": "execute_result"
    }
   ],
   "source": [
    "poi = OPEN_2.detach().numpy()\n",
    "#final = np.array(OPEN_2)\n",
    "poi.shape"
   ]
  },
  {
   "cell_type": "code",
   "execution_count": 629,
   "metadata": {},
   "outputs": [
    {
     "data": {
      "text/plain": [
       "(1025, 16)"
      ]
     },
     "execution_count": 629,
     "metadata": {},
     "output_type": "execute_result"
    }
   ],
   "source": [
    "poi[0].shape"
   ]
  },
  {
   "cell_type": "code",
   "execution_count": 631,
   "metadata": {},
   "outputs": [
    {
     "data": {
      "text/plain": [
       "<matplotlib.collections.QuadMesh at 0x20e84065f10>"
      ]
     },
     "execution_count": 631,
     "metadata": {},
     "output_type": "execute_result"
    },
    {
     "data": {
      "image/png": "[encoded data removed]",
      "text/plain": [
       "<Figure size 432x288 with 1 Axes>"
      ]
     },
     "metadata": {},
     "output_type": "display_data"
    }
   ],
   "source": [
    "Ss = librosa.feature.inverse.mel_to_audio(poi.astype(np.float32))\n",
    "sp.io.wavfile.write (\"OPEN_2.wav\", sr, Ss)\n",
    "import librosa.display\n",
    "librosa.display.specshow(poi[0], x_axis=None,  y_axis=None, sr=sr)"
   ]
  },
  {
   "cell_type": "code",
   "execution_count": 634,
   "metadata": {},
   "outputs": [
    {
     "data": {
      "text/plain": [
       "(1, 1025, 16)"
      ]
     },
     "execution_count": 634,
     "metadata": {},
     "output_type": "execute_result"
    }
   ],
   "source": [
    "poi_2 = mfccs_papa.detach().numpy()\n",
    "poi_2.shape"
   ]
  },
  {
   "cell_type": "code",
   "execution_count": 635,
   "metadata": {},
   "outputs": [
    {
     "data": {
      "text/plain": [
       "<matplotlib.collections.QuadMesh at 0x20e8b98cd60>"
      ]
     },
     "execution_count": 635,
     "metadata": {},
     "output_type": "execute_result"
    },
    {
     "data": {
      "image/png": "[encoded data removed]",
      "text/plain": [
       "<Figure size 432x288 with 1 Axes>"
      ]
     },
     "metadata": {},
     "output_type": "display_data"
    }
   ],
   "source": [
    "librosa.display.specshow(poi_2[0], x_axis=None,  y_axis=None, sr=sr)"
   ]
  },
  {
   "cell_type": "code",
   "execution_count": null,
   "metadata": {},
   "outputs": [],
   "source": []
  },
  {
   "cell_type": "code",
   "execution_count": null,
   "metadata": {},
   "outputs": [],
   "source": []
  },
  {
   "cell_type": "code",
   "execution_count": 1028,
   "metadata": {},
   "outputs": [],
   "source": [
    "class Nete(nn.Module):\n",
    "\n",
    "    def __init__(self):\n",
    "        super(Nete, self).__init__()\n",
    "        \n",
    "        self.Conv1d = nn.Conv1d(4100, 4100, 1)\n",
    "        self.Conv11d = nn.Conv1d(4100, 2050, 1)\n",
    "        self.Conv22d = nn.Conv1d(2050, 2050, 1)\n",
    "        self.Conv2d = nn.Conv1d(2050, 1025, 1)\n",
    "        self.Conv4d = nn.Conv1d(1025, 1025, 1)\n",
    "        \n",
    "        self.linear = nn.Linear(16, 16)\n",
    "        self.linear1 = nn.Linear(16, 16)\n",
    "        \n",
    "        self.norm = nn.BatchNorm1d(4100)\n",
    "        self.relu = nn.ReLU()\n",
    "        \n",
    "        \n",
    "\n",
    "\n",
    "    def forward(self, x):\n",
    "          \n",
    "        x = x*math.sin(0.5)      \n",
    "        x = self.relu(self.Conv1d(x))\n",
    "        x = self.norm(x)\n",
    "#        x = self.MaxPool2d(x)\n",
    "        x = self.Conv11d(x)\n",
    "#        x = self.MaxPool2d(x)\n",
    "        x = self.Conv22d(x)\n",
    "        x = self.Conv2d(x)\n",
    "        \n",
    "        x = self.relu(self.Conv4d(x))\n",
    "        #x = self.norm(x)\n",
    "\n",
    "      #  x = self.linear(x)\n",
    "    #    x = self.linear1(x)\n",
    "\n",
    "        return x\n",
    "\n",
    "nete = Nete()"
   ]
  },
  {
   "cell_type": "code",
   "execution_count": 1029,
   "metadata": {},
   "outputs": [
    {
     "data": {
      "text/plain": [
       "tensor([[0.1812, 0.1123, 0.0831,  ..., 0.0000, 0.0000, 0.0000],\n",
       "        [0.0002, 0.0000, 0.0182,  ..., 0.0000, 0.0000, 0.0000],\n",
       "        [0.0294, 0.0454, 0.0985,  ..., 0.0000, 0.0000, 0.0000],\n",
       "        ...,\n",
       "        [0.0619, 0.0667, 0.0667,  ..., 0.1085, 0.1391, 0.0266],\n",
       "        [0.0000, 0.0000, 0.1064,  ..., 0.0000, 0.0000, 0.0000],\n",
       "        [0.0000, 0.0000, 0.0000,  ..., 0.1333, 0.0173, 0.0356]],\n",
       "       grad_fn=<SelectBackward0>)"
      ]
     },
     "execution_count": 1029,
     "metadata": {},
     "output_type": "execute_result"
    }
   ],
   "source": [
    "X_train_222 = nete(final)\n",
    "np.shape(X_train_222)\n",
    "X_train_222[0]"
   ]
  },
  {
   "cell_type": "code",
   "execution_count": 1030,
   "metadata": {},
   "outputs": [
    {
     "data": {
      "text/plain": [
       "device(type='cpu')"
      ]
     },
     "execution_count": 1030,
     "metadata": {},
     "output_type": "execute_result"
    }
   ],
   "source": [
    "device = torch.device('cuda:0' if torch.cuda.is_available() else 'cpu')\n",
    "device"
   ]
  },
  {
   "cell_type": "code",
   "execution_count": 1031,
   "metadata": {},
   "outputs": [],
   "source": [
    "batch_size = 512\n",
    "train_datasets = TensorDataset(final, mfccs_papa)\n",
    "train_dataloaders = DataLoader(train_datasets, batch_size=batch_size, shuffle=True)"
   ]
  },
  {
   "cell_type": "code",
   "execution_count": 1032,
   "metadata": {},
   "outputs": [],
   "source": [
    "from torch import optim\n",
    "learning_rate = 0.01\n",
    "#optimizerr = optim.SGD(nete.parameters(), lr=0.1, momentum=0.9)\n",
    "optimizerr = optim.Adam(nete.parameters(), lr=0.1)\n",
    "criterionn = nn.HuberLoss()\n",
    "#criterionn = loss_train_test"
   ]
  },
  {
   "cell_type": "code",
   "execution_count": 982,
   "metadata": {},
   "outputs": [
    {
     "name": "stdout",
     "output_type": "stream",
     "text": [
      "[ 0] [epoch=    1] Train Loss: 0.214\n",
      "[ 1] [epoch=    2] Train Loss: 468763.531\n",
      "[ 2] [epoch=    3] Train Loss: 1244500480.000\n",
      "[ 3] [epoch=    4] Train Loss: 2798256384.000\n",
      "[ 4] [epoch=    5] Train Loss: 294671264.000\n",
      "[ 5] [epoch=    6] Train Loss: 1255478528.000\n",
      "[ 6] [epoch=    7] Train Loss: 1050602432.000\n",
      "[ 7] [epoch=    8] Train Loss: 443013120.000\n",
      "[ 8] [epoch=    9] Train Loss: 905162944.000\n",
      "[ 9] [epoch=   10] Train Loss: 11232964608.000\n"
     ]
    }
   ],
   "source": [
    "training_loss, testing_loss = [], []\n",
    "running_loss = []\n",
    "loss = []\n",
    "i = 0\n",
    "for epoch in range(10):\n",
    "    for data in train_dataloaders:\n",
    "\n",
    "        inputs = final.to(device)\n",
    "        optimizerr.zero_grad()\n",
    "\n",
    "        outputss = nete(final)\n",
    "        \n",
    "        labss = mfccs_papa.to(device)  \n",
    "\n",
    "        loss = criterionn(outputss, labss)\n",
    "\n",
    "        loss.backward()\n",
    "        optimizerr.step()\n",
    "        running_loss.append(loss.item())\n",
    "        i += 1\n",
    "        if i % 1 == 0:\n",
    "            avg_train_loss = sum(running_loss) / len(running_loss)          \n",
    "            running_loss.clear()\n",
    "            training_loss.append(avg_train_loss)\n",
    "           \n",
    "            print(f\"[{epoch:2d}] [epoch={i:5d}] Train Loss: {avg_train_loss:.3f}\")\n",
    "            #print(outputs[0])"
   ]
  },
  {
   "cell_type": "code",
   "execution_count": 1003,
   "metadata": {},
   "outputs": [
    {
     "name": "stdout",
     "output_type": "stream",
     "text": [
      "[ 0] [epoch=    1] Train Loss: 0.159\n",
      "[ 1] [epoch=    2] Train Loss: 0.159\n",
      "[ 2] [epoch=    3] Train Loss: 0.159\n",
      "[ 3] [epoch=    4] Train Loss: 0.159\n",
      "[ 4] [epoch=    5] Train Loss: 0.159\n",
      "[ 5] [epoch=    6] Train Loss: 0.159\n",
      "[ 6] [epoch=    7] Train Loss: 0.159\n",
      "[ 7] [epoch=    8] Train Loss: 0.159\n",
      "[ 8] [epoch=    9] Train Loss: 0.159\n",
      "[ 9] [epoch=   10] Train Loss: 0.159\n",
      "[10] [epoch=   11] Train Loss: 0.159\n",
      "[11] [epoch=   12] Train Loss: 0.159\n",
      "[12] [epoch=   13] Train Loss: 0.159\n",
      "[13] [epoch=   14] Train Loss: 0.159\n",
      "[14] [epoch=   15] Train Loss: 0.159\n",
      "[15] [epoch=   16] Train Loss: 0.159\n",
      "[16] [epoch=   17] Train Loss: 0.159\n",
      "[17] [epoch=   18] Train Loss: 0.159\n",
      "[18] [epoch=   19] Train Loss: 0.159\n",
      "[19] [epoch=   20] Train Loss: 0.159\n",
      "[20] [epoch=   21] Train Loss: 0.159\n",
      "[21] [epoch=   22] Train Loss: 0.159\n",
      "[22] [epoch=   23] Train Loss: 0.159\n",
      "[23] [epoch=   24] Train Loss: 0.159\n",
      "[24] [epoch=   25] Train Loss: 0.159\n",
      "[25] [epoch=   26] Train Loss: 0.159\n",
      "[26] [epoch=   27] Train Loss: 0.159\n",
      "[27] [epoch=   28] Train Loss: 0.159\n",
      "[28] [epoch=   29] Train Loss: 0.159\n",
      "[29] [epoch=   30] Train Loss: 0.159\n",
      "[30] [epoch=   31] Train Loss: 0.159\n",
      "[31] [epoch=   32] Train Loss: 0.159\n",
      "[32] [epoch=   33] Train Loss: 0.159\n",
      "[33] [epoch=   34] Train Loss: 0.159\n",
      "[34] [epoch=   35] Train Loss: 0.159\n",
      "[35] [epoch=   36] Train Loss: 0.159\n",
      "[36] [epoch=   37] Train Loss: 0.159\n",
      "[37] [epoch=   38] Train Loss: 0.159\n",
      "[38] [epoch=   39] Train Loss: 0.159\n",
      "[39] [epoch=   40] Train Loss: 0.159\n",
      "[40] [epoch=   41] Train Loss: 0.159\n",
      "[41] [epoch=   42] Train Loss: 0.159\n",
      "[42] [epoch=   43] Train Loss: 0.159\n",
      "[43] [epoch=   44] Train Loss: 0.159\n",
      "[44] [epoch=   45] Train Loss: 0.159\n",
      "[45] [epoch=   46] Train Loss: 0.159\n",
      "[46] [epoch=   47] Train Loss: 0.159\n",
      "[47] [epoch=   48] Train Loss: 0.159\n",
      "[48] [epoch=   49] Train Loss: 0.159\n",
      "[49] [epoch=   50] Train Loss: 0.159\n",
      "[50] [epoch=   51] Train Loss: 0.159\n",
      "[51] [epoch=   52] Train Loss: 0.159\n",
      "[52] [epoch=   53] Train Loss: 0.159\n",
      "[53] [epoch=   54] Train Loss: 0.159\n",
      "[54] [epoch=   55] Train Loss: 0.159\n",
      "[55] [epoch=   56] Train Loss: 0.159\n",
      "[56] [epoch=   57] Train Loss: 0.159\n",
      "[57] [epoch=   58] Train Loss: 0.159\n",
      "[58] [epoch=   59] Train Loss: 0.159\n",
      "[59] [epoch=   60] Train Loss: 0.159\n",
      "[60] [epoch=   61] Train Loss: 0.159\n",
      "[61] [epoch=   62] Train Loss: 0.159\n",
      "[62] [epoch=   63] Train Loss: 0.159\n",
      "[63] [epoch=   64] Train Loss: 0.159\n",
      "[64] [epoch=   65] Train Loss: 0.159\n",
      "[65] [epoch=   66] Train Loss: 0.159\n",
      "[66] [epoch=   67] Train Loss: 0.159\n",
      "[67] [epoch=   68] Train Loss: 0.159\n",
      "[68] [epoch=   69] Train Loss: 0.159\n",
      "[69] [epoch=   70] Train Loss: 0.159\n",
      "[70] [epoch=   71] Train Loss: 0.159\n",
      "[71] [epoch=   72] Train Loss: 0.159\n",
      "[72] [epoch=   73] Train Loss: 0.159\n",
      "[73] [epoch=   74] Train Loss: 0.158\n",
      "[74] [epoch=   75] Train Loss: 0.158\n",
      "[75] [epoch=   76] Train Loss: 0.158\n",
      "[76] [epoch=   77] Train Loss: 0.158\n",
      "[77] [epoch=   78] Train Loss: 0.158\n",
      "[78] [epoch=   79] Train Loss: 0.158\n",
      "[79] [epoch=   80] Train Loss: 0.158\n",
      "[80] [epoch=   81] Train Loss: 0.158\n",
      "[81] [epoch=   82] Train Loss: 0.158\n",
      "[82] [epoch=   83] Train Loss: 0.158\n",
      "[83] [epoch=   84] Train Loss: 0.158\n",
      "[84] [epoch=   85] Train Loss: 0.158\n",
      "[85] [epoch=   86] Train Loss: 0.158\n",
      "[86] [epoch=   87] Train Loss: 0.158\n",
      "[87] [epoch=   88] Train Loss: 0.158\n",
      "[88] [epoch=   89] Train Loss: 0.158\n",
      "[89] [epoch=   90] Train Loss: 0.158\n",
      "[90] [epoch=   91] Train Loss: 0.158\n",
      "[91] [epoch=   92] Train Loss: 0.158\n",
      "[92] [epoch=   93] Train Loss: 0.158\n",
      "[93] [epoch=   94] Train Loss: 0.158\n",
      "[94] [epoch=   95] Train Loss: 0.158\n",
      "[95] [epoch=   96] Train Loss: 0.158\n",
      "[96] [epoch=   97] Train Loss: 0.158\n",
      "[97] [epoch=   98] Train Loss: 0.158\n",
      "[98] [epoch=   99] Train Loss: 0.158\n",
      "[99] [epoch=  100] Train Loss: 0.158\n"
     ]
    }
   ],
   "source": [
    "training_loss, testing_loss = [], []\n",
    "running_loss = []\n",
    "loss = []\n",
    "i = 0\n",
    "for epoch in range(100):\n",
    "    for data in train_dataloaders:\n",
    "\n",
    "        inputs = final.to(device)\n",
    "        optimizerr.zero_grad()\n",
    "\n",
    "        outputss = nete(final)\n",
    "        \n",
    "        labss = mfccs_papa.to(device)  \n",
    "\n",
    "        loss = criterionn(outputss, labss)\n",
    "\n",
    "        loss.backward()\n",
    "        optimizerr.step()\n",
    "        running_loss.append(loss.item())\n",
    "        i += 1\n",
    "        if i % 1 == 0:\n",
    "            avg_train_loss = sum(running_loss) / len(running_loss)          \n",
    "            running_loss.clear()\n",
    "            training_loss.append(avg_train_loss)\n",
    "           \n",
    "            print(f\"[{epoch:2d}] [epoch={i:5d}] Train Loss: {avg_train_loss:.3f}\")\n",
    "            #print(outputs[0])"
   ]
  },
  {
   "cell_type": "code",
   "execution_count": null,
   "metadata": {},
   "outputs": [],
   "source": []
  },
  {
   "cell_type": "code",
   "execution_count": 1004,
   "metadata": {},
   "outputs": [],
   "source": [
    "OPEN = outputs\n",
    "OPEN_2 = outputs"
   ]
  },
  {
   "cell_type": "code",
   "execution_count": 1005,
   "metadata": {},
   "outputs": [
    {
     "data": {
      "text/plain": [
       "(1, 1025, 16)"
      ]
     },
     "execution_count": 1005,
     "metadata": {},
     "output_type": "execute_result"
    }
   ],
   "source": [
    "poi = OPEN_2.detach().numpy()\n",
    "#final = np.array(OPEN_2)\n",
    "poi.shape"
   ]
  },
  {
   "cell_type": "code",
   "execution_count": 1006,
   "metadata": {},
   "outputs": [
    {
     "data": {
      "text/plain": [
       "<matplotlib.collections.QuadMesh at 0x20e84056a00>"
      ]
     },
     "execution_count": 1006,
     "metadata": {},
     "output_type": "execute_result"
    },
    {
     "data": {
      "image/png": "[encoded data removed]",
      "text/plain": [
       "<Figure size 432x288 with 1 Axes>"
      ]
     },
     "metadata": {},
     "output_type": "display_data"
    }
   ],
   "source": [
    "Ss = librosa.feature.inverse.mel_to_audio(poi.astype(np.float32))\n",
    "sp.io.wavfile.write (\"OPEN_2.wav\", sr, Ss)\n",
    "import librosa.display\n",
    "librosa.display.specshow(poi[0], x_axis=None,  y_axis=None, sr=sr)"
   ]
  },
  {
   "cell_type": "code",
   "execution_count": 1007,
   "metadata": {},
   "outputs": [
    {
     "data": {
      "text/plain": [
       "(1, 1025, 16)"
      ]
     },
     "execution_count": 1007,
     "metadata": {},
     "output_type": "execute_result"
    }
   ],
   "source": [
    "poi_2 = mfccs_papa.detach().numpy()\n",
    "poi_2.shape"
   ]
  },
  {
   "cell_type": "code",
   "execution_count": 1008,
   "metadata": {},
   "outputs": [
    {
     "data": {
      "text/plain": [
       "<matplotlib.collections.QuadMesh at 0x20e842098b0>"
      ]
     },
     "execution_count": 1008,
     "metadata": {},
     "output_type": "execute_result"
    },
    {
     "data": {
      "image/png": "[encoded data removed]",
      "text/plain": [
       "<Figure size 432x288 with 1 Axes>"
      ]
     },
     "metadata": {},
     "output_type": "display_data"
    }
   ],
   "source": [
    "librosa.display.specshow(poi_2[0], x_axis=None,  y_axis=None, sr=sr)"
   ]
  },
  {
   "cell_type": "code",
   "execution_count": null,
   "metadata": {},
   "outputs": [],
   "source": []
  },
  {
   "cell_type": "code",
   "execution_count": 1035,
   "metadata": {},
   "outputs": [
    {
     "name": "stdout",
     "output_type": "stream",
     "text": [
      "[ 0] [epoch=    1] Train Loss: 0.211\n",
      "[ 1] [epoch=    2] Train Loss: 0.211\n",
      "[ 2] [epoch=    3] Train Loss: 0.211\n",
      "[ 3] [epoch=    4] Train Loss: 0.211\n",
      "[ 4] [epoch=    5] Train Loss: 0.211\n",
      "[ 5] [epoch=    6] Train Loss: 0.211\n",
      "[ 6] [epoch=    7] Train Loss: 0.211\n",
      "[ 7] [epoch=    8] Train Loss: 0.211\n",
      "[ 8] [epoch=    9] Train Loss: 0.211\n",
      "[ 9] [epoch=   10] Train Loss: 0.211\n",
      "[10] [epoch=   11] Train Loss: 0.211\n",
      "[11] [epoch=   12] Train Loss: 0.211\n",
      "[12] [epoch=   13] Train Loss: 0.211\n",
      "[13] [epoch=   14] Train Loss: 0.211\n",
      "[14] [epoch=   15] Train Loss: 0.211\n",
      "[15] [epoch=   16] Train Loss: 0.211\n",
      "[16] [epoch=   17] Train Loss: 0.211\n",
      "[17] [epoch=   18] Train Loss: 0.211\n",
      "[18] [epoch=   19] Train Loss: 0.211\n",
      "[19] [epoch=   20] Train Loss: 0.211\n",
      "[20] [epoch=   21] Train Loss: 0.211\n",
      "[21] [epoch=   22] Train Loss: 0.211\n",
      "[22] [epoch=   23] Train Loss: 0.211\n",
      "[23] [epoch=   24] Train Loss: 0.211\n",
      "[24] [epoch=   25] Train Loss: 0.211\n"
     ]
    }
   ],
   "source": [
    "training_loss, testing_loss = [], []\n",
    "running_loss = []\n",
    "loss = []\n",
    "i = 0\n",
    "for epoch in range(25):\n",
    "    for data in train_dataloaders:\n",
    "\n",
    "        inputs = final.to(device)\n",
    "        optimizerr.zero_grad()\n",
    "\n",
    "        outputss = nete(final)\n",
    "        \n",
    "        labss = mfccs_papa.to(device)  \n",
    "\n",
    "        loss = criterionn(outputss, labss)\n",
    "\n",
    "        loss.backward()\n",
    "        optimizerr.step()\n",
    "        running_loss.append(loss.item())\n",
    "        i += 1\n",
    "        if i % 1 == 0:\n",
    "            avg_train_loss = sum(running_loss) / len(running_loss)          \n",
    "            running_loss.clear()\n",
    "            training_loss.append(avg_train_loss)\n",
    "           \n",
    "            print(f\"[{epoch:2d}] [epoch={i:5d}] Train Loss: {avg_train_loss:.3f}\")\n",
    "            #print(outputs[0])"
   ]
  },
  {
   "cell_type": "code",
   "execution_count": 1036,
   "metadata": {},
   "outputs": [],
   "source": [
    "OPEN = outputs\n",
    "OPEN_2 = outputs"
   ]
  },
  {
   "cell_type": "code",
   "execution_count": 1037,
   "metadata": {},
   "outputs": [
    {
     "data": {
      "text/plain": [
       "(1, 1025, 16)"
      ]
     },
     "execution_count": 1037,
     "metadata": {},
     "output_type": "execute_result"
    }
   ],
   "source": [
    "poi = OPEN_2.detach().numpy()\n",
    "#final = np.array(OPEN_2)\n",
    "poi.shape"
   ]
  },
  {
   "cell_type": "code",
   "execution_count": 1040,
   "metadata": {},
   "outputs": [
    {
     "data": {
      "text/plain": [
       "<matplotlib.collections.QuadMesh at 0x20e8a3f1ee0>"
      ]
     },
     "execution_count": 1040,
     "metadata": {},
     "output_type": "execute_result"
    },
    {
     "data": {
      "image/png": "[encoded data removed]",
      "text/plain": [
       "<Figure size 432x288 with 1 Axes>"
      ]
     },
     "metadata": {},
     "output_type": "display_data"
    }
   ],
   "source": [
    "Ss = librosa.feature.inverse.mel_to_audio(poi.astype(np.float32))\n",
    "sp.io.wavfile.write (\"OPEN_2.wav\", sr, Ss)\n",
    "import librosa.display\n",
    "librosa.display.specshow(poi[0], x_axis=None,  y_axis=None, sr=sr)"
   ]
  },
  {
   "cell_type": "code",
   "execution_count": 1041,
   "metadata": {},
   "outputs": [
    {
     "data": {
      "text/plain": [
       "<matplotlib.collections.QuadMesh at 0x20e8a401160>"
      ]
     },
     "execution_count": 1041,
     "metadata": {},
     "output_type": "execute_result"
    },
    {
     "data": {
      "image/png": "[encoded data removed]",
      "text/plain": [
       "<Figure size 432x288 with 1 Axes>"
      ]
     },
     "metadata": {},
     "output_type": "display_data"
    }
   ],
   "source": [
    "librosa.display.specshow(poi_2[0], x_axis=None,  y_axis=None, sr=sr)"
   ]
  },
  {
   "cell_type": "code",
   "execution_count": null,
   "metadata": {},
   "outputs": [],
   "source": []
  },
  {
   "cell_type": "code",
   "execution_count": null,
   "metadata": {},
   "outputs": [],
   "source": []
  }
 ],
 "metadata": {
  "kernelspec": {
   "display_name": "Python 3",
   "language": "python",
   "name": "python3"
  },
  "language_info": {
   "codemirror_mode": {
    "name": "ipython",
    "version": 3
   },
   "file_extension": ".py",
   "mimetype": "text/x-python",
   "name": "python",
   "nbconvert_exporter": "python",
   "pygments_lexer": "ipython3",
   "version": "3.8.5"
  }
 },
 "nbformat": 4,
 "nbformat_minor": 4
}
